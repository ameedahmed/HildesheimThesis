{
 "cells": [
  {
   "cell_type": "code",
   "execution_count": 1,
   "id": "5eb8e766",
   "metadata": {},
   "outputs": [
    {
     "name": "stdout",
     "output_type": "stream",
     "text": [
      "Collecting bcolz\n",
      "  Downloading bcolz-1.2.1.tar.gz (1.5 MB)\n",
      "     ---------------------------------------- 0.0/1.5 MB ? eta -:--:--\n",
      "     ---------------------------------------- 1.5/1.5 MB 8.5 MB/s eta 0:00:00\n",
      "  Installing build dependencies: started\n",
      "  Installing build dependencies: finished with status 'done'\n",
      "  Getting requirements to build wheel: started\n",
      "  Getting requirements to build wheel: finished with status 'done'\n",
      "  Installing backend dependencies: started\n",
      "  Installing backend dependencies: finished with status 'done'\n",
      "  Preparing metadata (pyproject.toml): started\n",
      "  Preparing metadata (pyproject.toml): finished with status 'done'\n",
      "Collecting mxnet\n",
      "  Downloading mxnet-1.7.0.post2-py2.py3-none-win_amd64.whl.metadata (402 bytes)\n",
      "Collecting tensorboardX\n",
      "  Downloading tensorboardX-2.6.2.2-py2.py3-none-any.whl.metadata (5.8 kB)\n",
      "Requirement already satisfied: matplotlib in d:\\nco_code\\nco_code-main-single_objective-lehd-tsp\\single_objective\\lehd\\tsp\\.venv\\lib\\site-packages (3.9.1.post1)\n",
      "Collecting matplotlib\n",
      "  Downloading matplotlib-3.10.3-cp310-cp310-win_amd64.whl.metadata (11 kB)\n",
      "Collecting easydict\n",
      "  Downloading easydict-1.13-py3-none-any.whl.metadata (4.2 kB)\n",
      "Requirement already satisfied: opencv-python in d:\\nco_code\\nco_code-main-single_objective-lehd-tsp\\single_objective\\lehd\\tsp\\.venv\\lib\\site-packages (4.11.0.86)\n",
      "Collecting einops\n",
      "  Downloading einops-0.8.1-py3-none-any.whl.metadata (13 kB)\n",
      "Requirement already satisfied: numpy>=1.7 in d:\\nco_code\\nco_code-main-single_objective-lehd-tsp\\single_objective\\lehd\\tsp\\.venv\\lib\\site-packages (from bcolz) (1.26.4)\n",
      "Collecting numpy>=1.7 (from bcolz)\n",
      "  Downloading numpy-1.16.6.zip (5.1 MB)\n",
      "     ---------------------------------------- 0.0/5.1 MB ? eta -:--:--\n",
      "     ---------- ----------------------------- 1.3/5.1 MB 6.7 MB/s eta 0:00:01\n",
      "     ---------------------- ----------------- 2.9/5.1 MB 7.3 MB/s eta 0:00:01\n",
      "     ---------------------------- ----------- 3.7/5.1 MB 6.4 MB/s eta 0:00:01\n",
      "     ------------------------------------ --- 4.7/5.1 MB 5.7 MB/s eta 0:00:01\n",
      "     ---------------------------------------- 5.1/5.1 MB 5.7 MB/s eta 0:00:00\n",
      "  Installing build dependencies: started\n",
      "  Installing build dependencies: finished with status 'done'\n",
      "  Getting requirements to build wheel: started\n",
      "  Getting requirements to build wheel: finished with status 'done'\n",
      "  Preparing metadata (pyproject.toml): started\n",
      "  Preparing metadata (pyproject.toml): finished with status 'error'\n"
     ]
    },
    {
     "name": "stderr",
     "output_type": "stream",
     "text": [
      "  error: subprocess-exited-with-error\n",
      "  \n",
      "  × Preparing metadata (pyproject.toml) did not run successfully.\n",
      "  │ exit code: 1\n",
      "  ╰─> [24 lines of output]\n",
      "      Running from numpy source directory.\n",
      "      <string>:394: UserWarning: Unrecognized setuptools command, proceeding with generating Cython sources and expanding templates\n",
      "      C:\\Users\\Admin\\AppData\\Local\\Temp\\pip-install-kntt75kv\\numpy_4017e8917c93442cae844d8dad0b7606\\numpy\\distutils\\misc_util.py:476: SyntaxWarning: \"is\" with a literal. Did you mean \"==\"?\n",
      "        return is_string(s) and ('*' in s or '?' is s)\n",
      "      Traceback (most recent call last):\n",
      "        File \"d:\\nco_code\\NCO_code-main-single_objective-LEHD-TSP\\single_objective\\LEHD\\TSP\\.venv\\lib\\site-packages\\pip\\_vendor\\pyproject_hooks\\_in_process\\_in_process.py\", line 353, in <module>\n",
      "          main()\n",
      "        File \"d:\\nco_code\\NCO_code-main-single_objective-LEHD-TSP\\single_objective\\LEHD\\TSP\\.venv\\lib\\site-packages\\pip\\_vendor\\pyproject_hooks\\_in_process\\_in_process.py\", line 335, in main\n",
      "          json_out['return_val'] = hook(**hook_input['kwargs'])\n",
      "        File \"d:\\nco_code\\NCO_code-main-single_objective-LEHD-TSP\\single_objective\\LEHD\\TSP\\.venv\\lib\\site-packages\\pip\\_vendor\\pyproject_hooks\\_in_process\\_in_process.py\", line 149, in prepare_metadata_for_build_wheel\n",
      "          return hook(metadata_directory, config_settings)\n",
      "        File \"C:\\Users\\Admin\\AppData\\Local\\Temp\\pip-build-env-wr39voue\\overlay\\Lib\\site-packages\\setuptools\\build_meta.py\", line 374, in prepare_metadata_for_build_wheel\n",
      "          self.run_setup()\n",
      "        File \"C:\\Users\\Admin\\AppData\\Local\\Temp\\pip-build-env-wr39voue\\overlay\\Lib\\site-packages\\setuptools\\build_meta.py\", line 512, in run_setup\n",
      "          super().run_setup(setup_script=setup_script)\n",
      "        File \"C:\\Users\\Admin\\AppData\\Local\\Temp\\pip-build-env-wr39voue\\overlay\\Lib\\site-packages\\setuptools\\build_meta.py\", line 317, in run_setup\n",
      "          exec(code, locals())\n",
      "        File \"<string>\", line 419, in <module>\n",
      "        File \"<string>\", line 398, in setup_package\n",
      "        File \"C:\\Users\\Admin\\AppData\\Local\\Temp\\pip-install-kntt75kv\\numpy_4017e8917c93442cae844d8dad0b7606\\numpy\\distutils\\__init__.py\", line 6, in <module>\n",
      "          from . import ccompiler\n",
      "        File \"C:\\Users\\Admin\\AppData\\Local\\Temp\\pip-install-kntt75kv\\numpy_4017e8917c93442cae844d8dad0b7606\\numpy\\distutils\\ccompiler.py\", line 111, in <module>\n",
      "          replace_method(CCompiler, 'find_executables', CCompiler_find_executables)\n",
      "      NameError: name 'CCompiler' is not defined. Did you mean: 'ccompiler'?\n",
      "      [end of output]\n",
      "  \n",
      "  note: This error originates from a subprocess, and is likely not a problem with pip.\n",
      "\n",
      "[notice] A new release of pip is available: 24.2 -> 25.1.1\n",
      "[notice] To update, run: d:\\nco_code\\NCO_code-main-single_objective-LEHD-TSP\\single_objective\\LEHD\\TSP\\.venv\\Scripts\\python.exe -m pip install --upgrade pip\n",
      "error: metadata-generation-failed\n",
      "\n",
      "× Encountered error while generating package metadata.\n",
      "╰─> See above for output.\n",
      "\n",
      "note: This is an issue with the package mentioned above, not pip.\n",
      "hint: See above for details.\n"
     ]
    },
    {
     "name": "stdout",
     "output_type": "stream",
     "text": [
      "Requirement already satisfied: scikit-image in d:\\nco_code\\nco_code-main-single_objective-lehd-tsp\\single_objective\\lehd\\tsp\\.venv\\lib\\site-packages (0.25.2)\n",
      "Requirement already satisfied: imgaug in d:\\nco_code\\nco_code-main-single_objective-lehd-tsp\\single_objective\\lehd\\tsp\\.venv\\lib\\site-packages (0.4.0)\n",
      "Requirement already satisfied: PyTurboJPEG in d:\\nco_code\\nco_code-main-single_objective-lehd-tsp\\single_objective\\lehd\\tsp\\.venv\\lib\\site-packages (1.7.7)\n",
      "Requirement already satisfied: numpy>=1.24 in d:\\nco_code\\nco_code-main-single_objective-lehd-tsp\\single_objective\\lehd\\tsp\\.venv\\lib\\site-packages (from scikit-image) (1.26.4)\n",
      "Requirement already satisfied: scipy>=1.11.4 in d:\\nco_code\\nco_code-main-single_objective-lehd-tsp\\single_objective\\lehd\\tsp\\.venv\\lib\\site-packages (from scikit-image) (1.15.3)\n",
      "Requirement already satisfied: networkx>=3.0 in d:\\nco_code\\nco_code-main-single_objective-lehd-tsp\\single_objective\\lehd\\tsp\\.venv\\lib\\site-packages (from scikit-image) (3.3)\n",
      "Requirement already satisfied: pillow>=10.1 in d:\\nco_code\\nco_code-main-single_objective-lehd-tsp\\single_objective\\lehd\\tsp\\.venv\\lib\\site-packages (from scikit-image) (10.4.0)\n",
      "Requirement already satisfied: imageio!=2.35.0,>=2.33 in d:\\nco_code\\nco_code-main-single_objective-lehd-tsp\\single_objective\\lehd\\tsp\\.venv\\lib\\site-packages (from scikit-image) (2.37.0)\n",
      "Requirement already satisfied: tifffile>=2022.8.12 in d:\\nco_code\\nco_code-main-single_objective-lehd-tsp\\single_objective\\lehd\\tsp\\.venv\\lib\\site-packages (from scikit-image) (2025.5.10)\n",
      "Requirement already satisfied: packaging>=21 in d:\\nco_code\\nco_code-main-single_objective-lehd-tsp\\single_objective\\lehd\\tsp\\.venv\\lib\\site-packages (from scikit-image) (24.1)\n",
      "Requirement already satisfied: lazy-loader>=0.4 in d:\\nco_code\\nco_code-main-single_objective-lehd-tsp\\single_objective\\lehd\\tsp\\.venv\\lib\\site-packages (from scikit-image) (0.4)\n",
      "Requirement already satisfied: six in d:\\nco_code\\nco_code-main-single_objective-lehd-tsp\\single_objective\\lehd\\tsp\\.venv\\lib\\site-packages (from imgaug) (1.16.0)\n",
      "Requirement already satisfied: matplotlib in d:\\nco_code\\nco_code-main-single_objective-lehd-tsp\\single_objective\\lehd\\tsp\\.venv\\lib\\site-packages (from imgaug) (3.9.1.post1)\n",
      "Requirement already satisfied: opencv-python in d:\\nco_code\\nco_code-main-single_objective-lehd-tsp\\single_objective\\lehd\\tsp\\.venv\\lib\\site-packages (from imgaug) (4.11.0.86)\n",
      "Requirement already satisfied: Shapely in d:\\nco_code\\nco_code-main-single_objective-lehd-tsp\\single_objective\\lehd\\tsp\\.venv\\lib\\site-packages (from imgaug) (2.1.0)\n",
      "Requirement already satisfied: contourpy>=1.0.1 in d:\\nco_code\\nco_code-main-single_objective-lehd-tsp\\single_objective\\lehd\\tsp\\.venv\\lib\\site-packages (from matplotlib->imgaug) (1.2.1)\n",
      "Requirement already satisfied: cycler>=0.10 in d:\\nco_code\\nco_code-main-single_objective-lehd-tsp\\single_objective\\lehd\\tsp\\.venv\\lib\\site-packages (from matplotlib->imgaug) (0.12.1)\n",
      "Requirement already satisfied: fonttools>=4.22.0 in d:\\nco_code\\nco_code-main-single_objective-lehd-tsp\\single_objective\\lehd\\tsp\\.venv\\lib\\site-packages (from matplotlib->imgaug) (4.53.1)\n",
      "Requirement already satisfied: kiwisolver>=1.3.1 in d:\\nco_code\\nco_code-main-single_objective-lehd-tsp\\single_objective\\lehd\\tsp\\.venv\\lib\\site-packages (from matplotlib->imgaug) (1.4.5)\n",
      "Requirement already satisfied: pyparsing>=2.3.1 in d:\\nco_code\\nco_code-main-single_objective-lehd-tsp\\single_objective\\lehd\\tsp\\.venv\\lib\\site-packages (from matplotlib->imgaug) (3.1.2)\n",
      "Requirement already satisfied: python-dateutil>=2.7 in d:\\nco_code\\nco_code-main-single_objective-lehd-tsp\\single_objective\\lehd\\tsp\\.venv\\lib\\site-packages (from matplotlib->imgaug) (2.9.0.post0)\n"
     ]
    },
    {
     "name": "stderr",
     "output_type": "stream",
     "text": [
      "\n",
      "[notice] A new release of pip is available: 24.2 -> 25.1.1\n",
      "[notice] To update, run: d:\\nco_code\\NCO_code-main-single_objective-LEHD-TSP\\single_objective\\LEHD\\TSP\\.venv\\Scripts\\python.exe -m pip install --upgrade pip\n"
     ]
    },
    {
     "name": "stdout",
     "output_type": "stream",
     "text": [
      "Requirement already satisfied: scikit-learn in d:\\nco_code\\nco_code-main-single_objective-lehd-tsp\\single_objective\\lehd\\tsp\\.venv\\lib\\site-packages (1.6.1)\n",
      "Requirement already satisfied: numpy>=1.19.5 in d:\\nco_code\\nco_code-main-single_objective-lehd-tsp\\single_objective\\lehd\\tsp\\.venv\\lib\\site-packages (from scikit-learn) (1.26.4)\n",
      "Requirement already satisfied: scipy>=1.6.0 in d:\\nco_code\\nco_code-main-single_objective-lehd-tsp\\single_objective\\lehd\\tsp\\.venv\\lib\\site-packages (from scikit-learn) (1.15.3)\n",
      "Requirement already satisfied: joblib>=1.2.0 in d:\\nco_code\\nco_code-main-single_objective-lehd-tsp\\single_objective\\lehd\\tsp\\.venv\\lib\\site-packages (from scikit-learn) (1.5.0)\n",
      "Requirement already satisfied: threadpoolctl>=3.1.0 in d:\\nco_code\\nco_code-main-single_objective-lehd-tsp\\single_objective\\lehd\\tsp\\.venv\\lib\\site-packages (from scikit-learn) (3.6.0)\n"
     ]
    },
    {
     "name": "stderr",
     "output_type": "stream",
     "text": [
      "\n",
      "[notice] A new release of pip is available: 24.2 -> 25.1.1\n",
      "[notice] To update, run: d:\\nco_code\\NCO_code-main-single_objective-LEHD-TSP\\single_objective\\LEHD\\TSP\\.venv\\Scripts\\python.exe -m pip install --upgrade pip\n"
     ]
    },
    {
     "name": "stdout",
     "output_type": "stream",
     "text": [
      "Looking in links: https://download.pytorch.org/whl/torch_stable.html\n"
     ]
    },
    {
     "name": "stderr",
     "output_type": "stream",
     "text": [
      "ERROR: Could not find a version that satisfies the requirement torch==1.7.1+cu110 (from versions: 1.11.0, 1.11.0+cpu, 1.11.0+cu113, 1.11.0+cu115, 1.12.0, 1.12.0+cpu, 1.12.0+cu113, 1.12.0+cu116, 1.12.1, 1.12.1+cpu, 1.12.1+cu113, 1.12.1+cu116, 1.13.0, 1.13.0+cpu, 1.13.0+cu116, 1.13.0+cu117, 1.13.1, 1.13.1+cpu, 1.13.1+cu116, 1.13.1+cu117, 2.0.0, 2.0.0+cpu, 2.0.0+cu117, 2.0.0+cu118, 2.0.1, 2.0.1+cpu, 2.0.1+cu117, 2.0.1+cu118, 2.1.0, 2.1.0+cpu, 2.1.0+cu118, 2.1.0+cu121, 2.1.1, 2.1.1+cpu, 2.1.1+cu118, 2.1.1+cu121, 2.1.2, 2.1.2+cpu, 2.1.2+cu118, 2.1.2+cu121, 2.2.0, 2.2.0+cpu, 2.2.0+cu118, 2.2.0+cu121, 2.2.1, 2.2.1+cpu, 2.2.1+cu118, 2.2.1+cu121, 2.2.2, 2.2.2+cpu, 2.2.2+cu118, 2.2.2+cu121, 2.3.0, 2.3.0+cpu, 2.3.0+cu118, 2.3.0+cu121, 2.3.1, 2.3.1+cpu, 2.3.1+cu118, 2.3.1+cu121, 2.4.0, 2.4.1, 2.5.0, 2.5.1, 2.6.0, 2.7.0)\n",
      "\n",
      "[notice] A new release of pip is available: 24.2 -> 25.1.1\n",
      "[notice] To update, run: d:\\nco_code\\NCO_code-main-single_objective-LEHD-TSP\\single_objective\\LEHD\\TSP\\.venv\\Scripts\\python.exe -m pip install --upgrade pip\n",
      "ERROR: No matching distribution found for torch==1.7.1+cu110\n"
     ]
    },
    {
     "name": "stdout",
     "output_type": "stream",
     "text": [
      "Requirement already satisfied: termcolor in d:\\nco_code\\nco_code-main-single_objective-lehd-tsp\\single_objective\\lehd\\tsp\\.venv\\lib\\site-packages (3.1.0)\n",
      "Requirement already satisfied: imgaug in d:\\nco_code\\nco_code-main-single_objective-lehd-tsp\\single_objective\\lehd\\tsp\\.venv\\lib\\site-packages (0.4.0)\n",
      "Requirement already satisfied: prettytable in d:\\nco_code\\nco_code-main-single_objective-lehd-tsp\\single_objective\\lehd\\tsp\\.venv\\lib\\site-packages (3.16.0)\n",
      "Requirement already satisfied: six in d:\\nco_code\\nco_code-main-single_objective-lehd-tsp\\single_objective\\lehd\\tsp\\.venv\\lib\\site-packages (from imgaug) (1.16.0)\n",
      "Requirement already satisfied: numpy>=1.15 in d:\\nco_code\\nco_code-main-single_objective-lehd-tsp\\single_objective\\lehd\\tsp\\.venv\\lib\\site-packages (from imgaug) (1.26.4)\n",
      "Requirement already satisfied: scipy in d:\\nco_code\\nco_code-main-single_objective-lehd-tsp\\single_objective\\lehd\\tsp\\.venv\\lib\\site-packages (from imgaug) (1.15.3)\n",
      "Requirement already satisfied: Pillow in d:\\nco_code\\nco_code-main-single_objective-lehd-tsp\\single_objective\\lehd\\tsp\\.venv\\lib\\site-packages (from imgaug) (10.4.0)\n",
      "Requirement already satisfied: matplotlib in d:\\nco_code\\nco_code-main-single_objective-lehd-tsp\\single_objective\\lehd\\tsp\\.venv\\lib\\site-packages (from imgaug) (3.9.1.post1)\n",
      "Requirement already satisfied: scikit-image>=0.14.2 in d:\\nco_code\\nco_code-main-single_objective-lehd-tsp\\single_objective\\lehd\\tsp\\.venv\\lib\\site-packages (from imgaug) (0.25.2)\n",
      "Requirement already satisfied: opencv-python in d:\\nco_code\\nco_code-main-single_objective-lehd-tsp\\single_objective\\lehd\\tsp\\.venv\\lib\\site-packages (from imgaug) (4.11.0.86)\n",
      "Requirement already satisfied: imageio in d:\\nco_code\\nco_code-main-single_objective-lehd-tsp\\single_objective\\lehd\\tsp\\.venv\\lib\\site-packages (from imgaug) (2.37.0)\n",
      "Requirement already satisfied: Shapely in d:\\nco_code\\nco_code-main-single_objective-lehd-tsp\\single_objective\\lehd\\tsp\\.venv\\lib\\site-packages (from imgaug) (2.1.0)\n",
      "Requirement already satisfied: wcwidth in d:\\nco_code\\nco_code-main-single_objective-lehd-tsp\\single_objective\\lehd\\tsp\\.venv\\lib\\site-packages (from prettytable) (0.2.13)\n",
      "Requirement already satisfied: networkx>=3.0 in d:\\nco_code\\nco_code-main-single_objective-lehd-tsp\\single_objective\\lehd\\tsp\\.venv\\lib\\site-packages (from scikit-image>=0.14.2->imgaug) (3.3)\n",
      "Requirement already satisfied: tifffile>=2022.8.12 in d:\\nco_code\\nco_code-main-single_objective-lehd-tsp\\single_objective\\lehd\\tsp\\.venv\\lib\\site-packages (from scikit-image>=0.14.2->imgaug) (2025.5.10)\n",
      "Requirement already satisfied: packaging>=21 in d:\\nco_code\\nco_code-main-single_objective-lehd-tsp\\single_objective\\lehd\\tsp\\.venv\\lib\\site-packages (from scikit-image>=0.14.2->imgaug) (24.1)\n",
      "Requirement already satisfied: lazy-loader>=0.4 in d:\\nco_code\\nco_code-main-single_objective-lehd-tsp\\single_objective\\lehd\\tsp\\.venv\\lib\\site-packages (from scikit-image>=0.14.2->imgaug) (0.4)\n",
      "Requirement already satisfied: contourpy>=1.0.1 in d:\\nco_code\\nco_code-main-single_objective-lehd-tsp\\single_objective\\lehd\\tsp\\.venv\\lib\\site-packages (from matplotlib->imgaug) (1.2.1)\n",
      "Requirement already satisfied: cycler>=0.10 in d:\\nco_code\\nco_code-main-single_objective-lehd-tsp\\single_objective\\lehd\\tsp\\.venv\\lib\\site-packages (from matplotlib->imgaug) (0.12.1)\n",
      "Requirement already satisfied: fonttools>=4.22.0 in d:\\nco_code\\nco_code-main-single_objective-lehd-tsp\\single_objective\\lehd\\tsp\\.venv\\lib\\site-packages (from matplotlib->imgaug) (4.53.1)\n",
      "Requirement already satisfied: kiwisolver>=1.3.1 in d:\\nco_code\\nco_code-main-single_objective-lehd-tsp\\single_objective\\lehd\\tsp\\.venv\\lib\\site-packages (from matplotlib->imgaug) (1.4.5)\n",
      "Requirement already satisfied: pyparsing>=2.3.1 in d:\\nco_code\\nco_code-main-single_objective-lehd-tsp\\single_objective\\lehd\\tsp\\.venv\\lib\\site-packages (from matplotlib->imgaug) (3.1.2)\n",
      "Requirement already satisfied: python-dateutil>=2.7 in d:\\nco_code\\nco_code-main-single_objective-lehd-tsp\\single_objective\\lehd\\tsp\\.venv\\lib\\site-packages (from matplotlib->imgaug) (2.9.0.post0)\n"
     ]
    },
    {
     "name": "stderr",
     "output_type": "stream",
     "text": [
      "\n",
      "[notice] A new release of pip is available: 24.2 -> 25.1.1\n",
      "[notice] To update, run: d:\\nco_code\\NCO_code-main-single_objective-LEHD-TSP\\single_objective\\LEHD\\TSP\\.venv\\Scripts\\python.exe -m pip install --upgrade pip\n"
     ]
    },
    {
     "name": "stdout",
     "output_type": "stream",
     "text": [
      "Requirement already satisfied: timm==0.3.4 in d:\\nco_code\\nco_code-main-single_objective-lehd-tsp\\single_objective\\lehd\\tsp\\.venv\\lib\\site-packages (0.3.4)\n",
      "Requirement already satisfied: torch>=1.4 in d:\\nco_code\\nco_code-main-single_objective-lehd-tsp\\single_objective\\lehd\\tsp\\.venv\\lib\\site-packages (from timm==0.3.4) (2.2.0)\n",
      "Requirement already satisfied: torchvision in d:\\nco_code\\nco_code-main-single_objective-lehd-tsp\\single_objective\\lehd\\tsp\\.venv\\lib\\site-packages (from timm==0.3.4) (0.17.0)\n",
      "Requirement already satisfied: filelock in d:\\nco_code\\nco_code-main-single_objective-lehd-tsp\\single_objective\\lehd\\tsp\\.venv\\lib\\site-packages (from torch>=1.4->timm==0.3.4) (3.15.4)\n",
      "Requirement already satisfied: typing-extensions>=4.8.0 in d:\\nco_code\\nco_code-main-single_objective-lehd-tsp\\single_objective\\lehd\\tsp\\.venv\\lib\\site-packages (from torch>=1.4->timm==0.3.4) (4.12.2)\n",
      "Requirement already satisfied: sympy in d:\\nco_code\\nco_code-main-single_objective-lehd-tsp\\single_objective\\lehd\\tsp\\.venv\\lib\\site-packages (from torch>=1.4->timm==0.3.4) (1.13.1)\n",
      "Requirement already satisfied: networkx in d:\\nco_code\\nco_code-main-single_objective-lehd-tsp\\single_objective\\lehd\\tsp\\.venv\\lib\\site-packages (from torch>=1.4->timm==0.3.4) (3.3)\n",
      "Requirement already satisfied: jinja2 in d:\\nco_code\\nco_code-main-single_objective-lehd-tsp\\single_objective\\lehd\\tsp\\.venv\\lib\\site-packages (from torch>=1.4->timm==0.3.4) (3.1.4)\n",
      "Requirement already satisfied: fsspec in d:\\nco_code\\nco_code-main-single_objective-lehd-tsp\\single_objective\\lehd\\tsp\\.venv\\lib\\site-packages (from torch>=1.4->timm==0.3.4) (2024.6.1)\n",
      "Requirement already satisfied: numpy in d:\\nco_code\\nco_code-main-single_objective-lehd-tsp\\single_objective\\lehd\\tsp\\.venv\\lib\\site-packages (from torchvision->timm==0.3.4) (1.26.4)\n",
      "Requirement already satisfied: requests in d:\\nco_code\\nco_code-main-single_objective-lehd-tsp\\single_objective\\lehd\\tsp\\.venv\\lib\\site-packages (from torchvision->timm==0.3.4) (2.32.3)\n",
      "Requirement already satisfied: pillow!=8.3.*,>=5.3.0 in d:\\nco_code\\nco_code-main-single_objective-lehd-tsp\\single_objective\\lehd\\tsp\\.venv\\lib\\site-packages (from torchvision->timm==0.3.4) (10.4.0)\n",
      "Requirement already satisfied: MarkupSafe>=2.0 in d:\\nco_code\\nco_code-main-single_objective-lehd-tsp\\single_objective\\lehd\\tsp\\.venv\\lib\\site-packages (from jinja2->torch>=1.4->timm==0.3.4) (2.1.5)\n",
      "Requirement already satisfied: charset-normalizer<4,>=2 in d:\\nco_code\\nco_code-main-single_objective-lehd-tsp\\single_objective\\lehd\\tsp\\.venv\\lib\\site-packages (from requests->torchvision->timm==0.3.4) (3.3.2)\n",
      "Requirement already satisfied: idna<4,>=2.5 in d:\\nco_code\\nco_code-main-single_objective-lehd-tsp\\single_objective\\lehd\\tsp\\.venv\\lib\\site-packages (from requests->torchvision->timm==0.3.4) (3.7)\n",
      "Requirement already satisfied: urllib3<3,>=1.21.1 in d:\\nco_code\\nco_code-main-single_objective-lehd-tsp\\single_objective\\lehd\\tsp\\.venv\\lib\\site-packages (from requests->torchvision->timm==0.3.4) (2.2.2)\n",
      "Requirement already satisfied: certifi>=2017.4.17 in d:\\nco_code\\nco_code-main-single_objective-lehd-tsp\\single_objective\\lehd\\tsp\\.venv\\lib\\site-packages (from requests->torchvision->timm==0.3.4) (2024.7.4)\n",
      "Requirement already satisfied: mpmath<1.4,>=1.1.0 in d:\\nco_code\\nco_code-main-single_objective-lehd-tsp\\single_objective\\lehd\\tsp\\.venv\\lib\\site-packages (from sympy->torch>=1.4->timm==0.3.4) (1.3.0)\n"
     ]
    },
    {
     "name": "stderr",
     "output_type": "stream",
     "text": [
      "\n",
      "[notice] A new release of pip is available: 24.2 -> 25.1.1\n",
      "[notice] To update, run: d:\\nco_code\\NCO_code-main-single_objective-LEHD-TSP\\single_objective\\LEHD\\TSP\\.venv\\Scripts\\python.exe -m pip install --upgrade pip\n"
     ]
    }
   ],
   "source": [
    "# Install all requirements in Jupyter Notebook cells\n",
    "!pip install bcolz mxnet tensorboardX matplotlib easydict opencv-python einops --no-cache-dir -U\n",
    "!pip install scikit-image imgaug PyTurboJPEG --no-cache-dir -U\n",
    "!pip install scikit-learn --no-cache-dir -U\n",
    "!pip install torch==1.7.1+cu110 torchvision==0.8.2+cu110 -f https://download.pytorch.org/whl/torch_stable.html --no-cache-dir -U\n",
    "!pip install termcolor imgaug prettytable --no-cache-dir -U\n",
    "!pip install timm==0.3.4 --no-cache-dir -U"
   ]
  },
  {
   "cell_type": "code",
   "execution_count": 2,
   "id": "b4c46ea3",
   "metadata": {},
   "outputs": [
    {
     "name": "stdout",
     "output_type": "stream",
     "text": [
      "Requirement already satisfied: einops in d:\\thesis\\.venv\\lib\\site-packages (0.8.1)\n",
      "Note: you may need to restart the kernel to use updated packages.\n"
     ]
    },
    {
     "name": "stderr",
     "output_type": "stream",
     "text": [
      "\n",
      "[notice] A new release of pip is available: 24.2 -> 25.1.1\n",
      "[notice] To update, run: python.exe -m pip install --upgrade pip\n"
     ]
    }
   ],
   "source": [
    "pip install einops --no-cache-dir -U"
   ]
  },
  {
   "cell_type": "code",
   "execution_count": 3,
   "id": "719ac4c8",
   "metadata": {},
   "outputs": [
    {
     "name": "stdout",
     "output_type": "stream",
     "text": [
      "Requirement already satisfied: opencv-python in d:\\thesis\\.venv\\lib\\site-packages (4.11.0.86)\n",
      "Requirement already satisfied: numpy>=1.21.2 in d:\\thesis\\.venv\\lib\\site-packages (from opencv-python) (1.26.4)\n",
      "Note: you may need to restart the kernel to use updated packages.\n"
     ]
    },
    {
     "name": "stderr",
     "output_type": "stream",
     "text": [
      "\n",
      "[notice] A new release of pip is available: 24.2 -> 25.1.1\n",
      "[notice] To update, run: python.exe -m pip install --upgrade pip\n"
     ]
    }
   ],
   "source": [
    "pip install opencv-python"
   ]
  },
  {
   "cell_type": "code",
   "execution_count": 4,
   "id": "1fe3a74e",
   "metadata": {},
   "outputs": [
    {
     "name": "stdout",
     "output_type": "stream",
     "text": [
      "Note: you may need to restart the kernel to use updated packages.\n"
     ]
    },
    {
     "name": "stderr",
     "output_type": "stream",
     "text": [
      "ERROR: Could not find a version that satisfies the requirement cv2 (from versions: none)\n",
      "\n",
      "[notice] A new release of pip is available: 24.2 -> 25.1.1\n",
      "[notice] To update, run: python.exe -m pip install --upgrade pip\n",
      "ERROR: No matching distribution found for cv2\n"
     ]
    }
   ],
   "source": [
    "pip install cv2 --no-cache-dir -U"
   ]
  },
  {
   "cell_type": "code",
   "execution_count": 5,
   "id": "3e786fd0",
   "metadata": {},
   "outputs": [
    {
     "name": "stdout",
     "output_type": "stream",
     "text": [
      "Note: you may need to restart the kernel to use updated packages.\n"
     ]
    },
    {
     "name": "stderr",
     "output_type": "stream",
     "text": [
      "\n",
      "[notice] A new release of pip is available: 24.2 -> 25.1.1\n",
      "[notice] To update, run: python.exe -m pip install --upgrade pip\n"
     ]
    },
    {
     "name": "stdout",
     "output_type": "stream",
     "text": [
      "Requirement already satisfied: timm in d:\\thesis\\.venv\\lib\\site-packages (1.0.15)\n",
      "Requirement already satisfied: torch in d:\\thesis\\.venv\\lib\\site-packages (from timm) (2.2.0)\n",
      "Requirement already satisfied: torchvision in d:\\thesis\\.venv\\lib\\site-packages (from timm) (0.17.0)\n",
      "Requirement already satisfied: pyyaml in d:\\thesis\\.venv\\lib\\site-packages (from timm) (6.0.2)\n",
      "Requirement already satisfied: huggingface_hub in d:\\thesis\\.venv\\lib\\site-packages (from timm) (0.31.2)\n",
      "Requirement already satisfied: safetensors in d:\\thesis\\.venv\\lib\\site-packages (from timm) (0.5.3)\n",
      "Requirement already satisfied: filelock in d:\\thesis\\.venv\\lib\\site-packages (from huggingface_hub->timm) (3.15.4)\n",
      "Requirement already satisfied: fsspec>=2023.5.0 in d:\\thesis\\.venv\\lib\\site-packages (from huggingface_hub->timm) (2024.6.1)\n",
      "Requirement already satisfied: packaging>=20.9 in d:\\thesis\\.venv\\lib\\site-packages (from huggingface_hub->timm) (24.1)\n",
      "Requirement already satisfied: requests in d:\\thesis\\.venv\\lib\\site-packages (from huggingface_hub->timm) (2.32.3)\n",
      "Requirement already satisfied: tqdm>=4.42.1 in d:\\thesis\\.venv\\lib\\site-packages (from huggingface_hub->timm) (4.66.5)\n",
      "Requirement already satisfied: typing-extensions>=3.7.4.3 in d:\\thesis\\.venv\\lib\\site-packages (from huggingface_hub->timm) (4.12.2)\n",
      "Requirement already satisfied: sympy in d:\\thesis\\.venv\\lib\\site-packages (from torch->timm) (1.13.1)\n",
      "Requirement already satisfied: networkx in d:\\thesis\\.venv\\lib\\site-packages (from torch->timm) (3.3)\n",
      "Requirement already satisfied: jinja2 in d:\\thesis\\.venv\\lib\\site-packages (from torch->timm) (3.1.4)\n",
      "Requirement already satisfied: numpy in d:\\thesis\\.venv\\lib\\site-packages (from torchvision->timm) (1.26.4)\n",
      "Requirement already satisfied: pillow!=8.3.*,>=5.3.0 in d:\\thesis\\.venv\\lib\\site-packages (from torchvision->timm) (10.4.0)\n",
      "Requirement already satisfied: colorama in d:\\thesis\\.venv\\lib\\site-packages (from tqdm>=4.42.1->huggingface_hub->timm) (0.4.6)\n",
      "Requirement already satisfied: MarkupSafe>=2.0 in d:\\thesis\\.venv\\lib\\site-packages (from jinja2->torch->timm) (2.1.5)\n",
      "Requirement already satisfied: charset-normalizer<4,>=2 in d:\\thesis\\.venv\\lib\\site-packages (from requests->huggingface_hub->timm) (3.3.2)\n",
      "Requirement already satisfied: idna<4,>=2.5 in d:\\thesis\\.venv\\lib\\site-packages (from requests->huggingface_hub->timm) (3.7)\n",
      "Requirement already satisfied: urllib3<3,>=1.21.1 in d:\\thesis\\.venv\\lib\\site-packages (from requests->huggingface_hub->timm) (2.2.2)\n",
      "Requirement already satisfied: certifi>=2017.4.17 in d:\\thesis\\.venv\\lib\\site-packages (from requests->huggingface_hub->timm) (2024.7.4)\n",
      "Requirement already satisfied: mpmath<1.4,>=1.1.0 in d:\\thesis\\.venv\\lib\\site-packages (from sympy->torch->timm) (1.3.0)\n"
     ]
    }
   ],
   "source": [
    "pip install timm"
   ]
  },
  {
   "cell_type": "code",
   "execution_count": 6,
   "id": "7dea9326",
   "metadata": {},
   "outputs": [
    {
     "name": "stdout",
     "output_type": "stream",
     "text": [
      "Collecting models\n",
      "  Using cached models-0.9.3.tar.gz (16 kB)\n",
      "  Installing build dependencies: started\n",
      "  Installing build dependencies: finished with status 'done'\n",
      "  Getting requirements to build wheel: started\n",
      "  Getting requirements to build wheel: finished with status 'error'\n",
      "Note: you may need to restart the kernel to use updated packages.\n"
     ]
    },
    {
     "name": "stderr",
     "output_type": "stream",
     "text": [
      "  error: subprocess-exited-with-error\n",
      "  \n",
      "  × Getting requirements to build wheel did not run successfully.\n",
      "  │ exit code: 1\n",
      "  ╰─> [19 lines of output]\n",
      "      Traceback (most recent call last):\n",
      "        File \"d:\\Thesis\\.venv\\lib\\site-packages\\pip\\_vendor\\pyproject_hooks\\_in_process\\_in_process.py\", line 353, in <module>\n",
      "          main()\n",
      "        File \"d:\\Thesis\\.venv\\lib\\site-packages\\pip\\_vendor\\pyproject_hooks\\_in_process\\_in_process.py\", line 335, in main\n",
      "          json_out['return_val'] = hook(**hook_input['kwargs'])\n",
      "        File \"d:\\Thesis\\.venv\\lib\\site-packages\\pip\\_vendor\\pyproject_hooks\\_in_process\\_in_process.py\", line 118, in get_requires_for_build_wheel\n",
      "          return hook(config_settings)\n",
      "        File \"C:\\Users\\Admin\\AppData\\Local\\Temp\\pip-build-env-lsuaq5e5\\overlay\\Lib\\site-packages\\setuptools\\build_meta.py\", line 331, in get_requires_for_build_wheel\n",
      "          return self._get_build_requires(config_settings, requirements=[])\n",
      "        File \"C:\\Users\\Admin\\AppData\\Local\\Temp\\pip-build-env-lsuaq5e5\\overlay\\Lib\\site-packages\\setuptools\\build_meta.py\", line 301, in _get_build_requires\n",
      "          self.run_setup()\n",
      "        File \"C:\\Users\\Admin\\AppData\\Local\\Temp\\pip-build-env-lsuaq5e5\\overlay\\Lib\\site-packages\\setuptools\\build_meta.py\", line 512, in run_setup\n",
      "          super().run_setup(setup_script=setup_script)\n",
      "        File \"C:\\Users\\Admin\\AppData\\Local\\Temp\\pip-build-env-lsuaq5e5\\overlay\\Lib\\site-packages\\setuptools\\build_meta.py\", line 317, in run_setup\n",
      "          exec(code, locals())\n",
      "        File \"<string>\", line 25, in <module>\n",
      "        File \"C:\\Users\\Admin\\AppData\\Local\\Temp\\pip-install-pg4dldt0\\models_7ffc94fb5cd54b02845fdbc046c2b3ec\\models\\__init__.py\", line 23, in <module>\n",
      "          from base import *\n",
      "      ModuleNotFoundError: No module named 'base'\n",
      "      [end of output]\n",
      "  \n",
      "  note: This error originates from a subprocess, and is likely not a problem with pip.\n",
      "\n",
      "[notice] A new release of pip is available: 24.2 -> 25.1.1\n",
      "[notice] To update, run: python.exe -m pip install --upgrade pip\n",
      "error: subprocess-exited-with-error\n",
      "\n",
      "× Getting requirements to build wheel did not run successfully.\n",
      "│ exit code: 1\n",
      "╰─> See above for output.\n",
      "\n",
      "note: This error originates from a subprocess, and is likely not a problem with pip.\n"
     ]
    }
   ],
   "source": [
    "pip install models"
   ]
  },
  {
   "cell_type": "code",
   "execution_count": 7,
   "id": "bc550fa6",
   "metadata": {},
   "outputs": [
    {
     "name": "stderr",
     "output_type": "stream",
     "text": [
      "d:\\Thesis\\.venv\\lib\\site-packages\\tqdm\\auto.py:21: TqdmWarning: IProgress not found. Please update jupyter and ipywidgets. See https://ipywidgets.readthedocs.io/en/stable/user_install.html\n",
      "  from .autonotebook import tqdm as notebook_tqdm\n",
      "d:\\Thesis\\.venv\\lib\\site-packages\\timm\\models\\helpers.py:7: FutureWarning: Importing from timm.models.helpers is deprecated, please import via timm.models\n",
      "  warnings.warn(f\"Importing from {__name__} is deprecated, please import via timm.models\", FutureWarning)\n",
      "d:\\Thesis\\.venv\\lib\\site-packages\\timm\\models\\layers\\__init__.py:48: FutureWarning: Importing from timm.models.layers is deprecated, please import via timm.layers\n",
      "  warnings.warn(f\"Importing from {__name__} is deprecated, please import via timm.layers\", FutureWarning)\n",
      "d:\\Thesis\\.venv\\lib\\site-packages\\timm\\models\\registry.py:4: FutureWarning: Importing from timm.models.registry is deprecated, please import via timm.models\n",
      "  warnings.warn(f\"Importing from {__name__} is deprecated, please import via timm.models\", FutureWarning)\n"
     ]
    }
   ],
   "source": [
    "import torch\n",
    "from timm.models import create_model\n",
    "from models import CSWin_64_12211_tiny_224  # Adjust if your model class is named differently\n",
    "from PIL import Image\n",
    "import torchvision.transforms as T"
   ]
  },
  {
   "cell_type": "code",
   "execution_count": 11,
   "id": "6f3c024f",
   "metadata": {},
   "outputs": [
    {
     "name": "stdout",
     "output_type": "stream",
     "text": [
      "Missing keys: []\n",
      "Unexpected keys: []\n",
      "['stage1_conv_embed.0.weight', 'stage1_conv_embed.0.bias', 'stage1_conv_embed.2.weight', 'stage1_conv_embed.2.bias', 'stage1.0.qkv.weight', 'stage1.0.qkv.bias', 'stage1.0.norm1.weight', 'stage1.0.norm1.bias', 'stage1.0.proj.weight', 'stage1.0.proj.bias', 'stage1.0.attns.0.get_v.weight', 'stage1.0.attns.0.get_v.bias', 'stage1.0.attns.1.get_v.weight', 'stage1.0.attns.1.get_v.bias', 'stage1.0.mlp.fc1.weight', 'stage1.0.mlp.fc1.bias', 'stage1.0.mlp.fc2.weight', 'stage1.0.mlp.fc2.bias', 'stage1.0.norm2.weight', 'stage1.0.norm2.bias']\n"
     ]
    }
   ],
   "source": [
    "# 1. Create the model instance (do not use pretrained=True unless you want to load default weights)\n",
    "model = CSWin_64_12211_tiny_224(pretrained=False)\n",
    "\n",
    "# 2. Load the checkpoint\n",
    "checkpoint = torch.load('cswin_tiny_224.pth', map_location='cpu')\n",
    "\n",
    "# 3. Extract the state_dict (handles both plain and wrapped checkpoints)\n",
    "if 'state_dict_ema' in checkpoint:\n",
    "    state_dict = checkpoint['state_dict_ema']\n",
    "elif 'state_dict' in checkpoint:\n",
    "    state_dict = checkpoint['state_dict']\n",
    "else:\n",
    "    state_dict = checkpoint\n",
    "\n",
    "# 4. Remove 'module.' prefix if present (for DataParallel checkpoints)\n",
    "new_state_dict = {}\n",
    "for k, v in state_dict.items():\n",
    "    new_key = k.replace('module.', '') if k.startswith('module.') else k\n",
    "    new_state_dict[new_key] = v\n",
    "\n",
    "# 5. Load weights into the model\n",
    "model.load_state_dict(new_state_dict, strict=False)  # strict=False ignores non-matching keys\n",
    "\n",
    "missing, unexpected = model.load_state_dict(new_state_dict, strict=False)\n",
    "print(\"Missing keys:\", missing)\n",
    "print(\"Unexpected keys:\", unexpected)\n",
    "\n",
    "print(list(state_dict.keys())[:20])  # Print first 20 keys\n",
    "# 6. Set model to evaluation mode\n",
    "model.eval()\n",
    "\n",
    "# 5. (Optional) Move to GPU if available\n",
    "device = torch.device('cuda' if torch.cuda.is_available() else 'cpu')\n",
    "model = model.to(device)"
   ]
  },
  {
   "cell_type": "code",
   "execution_count": 12,
   "id": "7eadb3a2",
   "metadata": {},
   "outputs": [
    {
     "name": "stdout",
     "output_type": "stream",
     "text": [
      "Predicted class: 404\n"
     ]
    }
   ],
   "source": [
    "# Load and preprocess your image\n",
    "img = Image.open('D:/Thesis/airplane.jpg').convert('RGB')\n",
    "transform = T.Compose([\n",
    "    T.Resize(224),\n",
    "    T.CenterCrop(224),\n",
    "    T.ToTensor(),\n",
    "    T.Normalize(mean=[0.485, 0.456, 0.406], std=[0.229, 0.224, 0.225]),\n",
    "])\n",
    "input_tensor = transform(img).unsqueeze(0)  # Add batch dimension\n",
    "#input_tensor = input_tensor.to(device)\n",
    "with torch.no_grad():\n",
    "    output = model(input_tensor) # model inference mode\n",
    "    pred = output.argmax(dim=1)\n",
    "    print('Predicted class:', pred.item())"
   ]
  },
  {
   "cell_type": "code",
   "execution_count": 13,
   "id": "7de4f84a",
   "metadata": {},
   "outputs": [
    {
     "name": "stdout",
     "output_type": "stream",
     "text": [
      "Predicted class name: airliner\n"
     ]
    }
   ],
   "source": [
    "import json\n",
    "import urllib.request\n",
    "\n",
    "# Download ImageNet class index mapping if you don't have it\n",
    "url = \"https://raw.githubusercontent.com/pytorch/hub/master/imagenet_classes.txt\"\n",
    "filename = \"imagenet_classes.txt\"\n",
    "urllib.request.urlretrieve(url, filename)\n",
    "\n",
    "# Read the class names\n",
    "with open(filename, \"r\") as f:\n",
    "    classes = [line.strip() for line in f.readlines()]\n",
    "\n",
    "print(\"Predicted class name:\", classes[pred.item()])"
   ]
  },
  {
   "cell_type": "code",
   "execution_count": null,
   "id": "65b179dd",
   "metadata": {},
   "outputs": [
    {
     "name": "stderr",
     "output_type": "stream",
     "text": [
      "d:\\Thesis\\.venv\\lib\\site-packages\\tqdm\\auto.py:21: TqdmWarning: IProgress not found. Please update jupyter and ipywidgets. See https://ipywidgets.readthedocs.io/en/stable/user_install.html\n",
      "  from .autonotebook import tqdm as notebook_tqdm\n",
      "d:\\Thesis\\.venv\\lib\\site-packages\\timm\\models\\helpers.py:7: FutureWarning: Importing from timm.models.helpers is deprecated, please import via timm.models\n",
      "  warnings.warn(f\"Importing from {__name__} is deprecated, please import via timm.models\", FutureWarning)\n",
      "d:\\Thesis\\.venv\\lib\\site-packages\\timm\\models\\layers\\__init__.py:48: FutureWarning: Importing from timm.models.layers is deprecated, please import via timm.layers\n",
      "  warnings.warn(f\"Importing from {__name__} is deprecated, please import via timm.layers\", FutureWarning)\n",
      "d:\\Thesis\\.venv\\lib\\site-packages\\timm\\models\\registry.py:4: FutureWarning: Importing from timm.models.registry is deprecated, please import via timm.models\n",
      "  warnings.warn(f\"Importing from {__name__} is deprecated, please import via timm.models\", FutureWarning)\n",
      "d:\\Thesis\\CSWin_Transformer_main\\models\\cswinmodified.py:437: UserWarning: Overwriting CSWin_64_12211_tiny_224 in registry with models.cswinmodified.CSWin_64_12211_tiny_224. This is because the name being registered conflicts with an existing name. Please check if this is not expected.\n",
      "  def CSWin_64_12211_tiny_224(pretrained=False, **kwargs):\n",
      "d:\\Thesis\\CSWin_Transformer_main\\models\\cswinmodified.py:444: UserWarning: Overwriting CSWin_64_24322_small_224 in registry with models.cswinmodified.CSWin_64_24322_small_224. This is because the name being registered conflicts with an existing name. Please check if this is not expected.\n",
      "  def CSWin_64_24322_small_224(pretrained=False, **kwargs):\n",
      "d:\\Thesis\\CSWin_Transformer_main\\models\\cswinmodified.py:451: UserWarning: Overwriting CSWin_96_24322_base_224 in registry with models.cswinmodified.CSWin_96_24322_base_224. This is because the name being registered conflicts with an existing name. Please check if this is not expected.\n",
      "  def CSWin_96_24322_base_224(pretrained=False, **kwargs):\n",
      "d:\\Thesis\\CSWin_Transformer_main\\models\\cswinmodified.py:458: UserWarning: Overwriting CSWin_144_24322_large_224 in registry with models.cswinmodified.CSWin_144_24322_large_224. This is because the name being registered conflicts with an existing name. Please check if this is not expected.\n",
      "  def CSWin_144_24322_large_224(pretrained=False, **kwargs):\n",
      "d:\\Thesis\\CSWin_Transformer_main\\models\\cswinmodified.py:467: UserWarning: Overwriting CSWin_96_24322_base_384 in registry with models.cswinmodified.CSWin_96_24322_base_384. This is because the name being registered conflicts with an existing name. Please check if this is not expected.\n",
      "  def CSWin_96_24322_base_384(pretrained=False, **kwargs):\n",
      "d:\\Thesis\\CSWin_Transformer_main\\models\\cswinmodified.py:474: UserWarning: Overwriting CSWin_144_24322_large_384 in registry with models.cswinmodified.CSWin_144_24322_large_384. This is because the name being registered conflicts with an existing name. Please check if this is not expected.\n",
      "  def CSWin_144_24322_large_384(pretrained=False, **kwargs):\n"
     ]
    },
    {
     "name": "stdout",
     "output_type": "stream",
     "text": [
      "['stage1_conv_embed.0.weight', 'stage1_conv_embed.0.bias', 'stage1_conv_embed.2.weight', 'stage1_conv_embed.2.bias', 'stage1.0.qkv.weight', 'stage1.0.qkv.bias', 'stage1.0.norm1.weight', 'stage1.0.norm1.bias', 'stage1.0.proj.weight', 'stage1.0.proj.bias', 'stage1.0.attns.0.get_v.weight', 'stage1.0.attns.0.get_v.bias', 'stage1.0.attns.1.get_v.weight', 'stage1.0.attns.1.get_v.bias', 'stage1.0.mlp.fc1.weight', 'stage1.0.mlp.fc1.bias', 'stage1.0.mlp.fc2.weight', 'stage1.0.mlp.fc2.bias', 'stage1.0.norm2.weight', 'stage1.0.norm2.bias']\n",
      "Predicted class: 404\n"
     ]
    },
    {
     "ename": "TypeError",
     "evalue": "expected Tensor as element 0 in argument 0, but got tuple",
     "output_type": "error",
     "traceback": [
      "\u001b[1;31m---------------------------------------------------------------------------\u001b[0m",
      "\u001b[1;31mTypeError\u001b[0m                                 Traceback (most recent call last)",
      "Cell \u001b[1;32mIn[1], line 226\u001b[0m\n\u001b[0;32m    223\u001b[0m     pred \u001b[38;5;241m=\u001b[39m output\u001b[38;5;241m.\u001b[39margmax(dim\u001b[38;5;241m=\u001b[39m\u001b[38;5;241m1\u001b[39m)\n\u001b[0;32m    224\u001b[0m     \u001b[38;5;28mprint\u001b[39m(\u001b[38;5;124m'\u001b[39m\u001b[38;5;124mPredicted class:\u001b[39m\u001b[38;5;124m'\u001b[39m, pred\u001b[38;5;241m.\u001b[39mitem())\n\u001b[1;32m--> 226\u001b[0m vis_global \u001b[38;5;241m=\u001b[39m \u001b[43mgenerate_visualization\u001b[49m\u001b[43m(\u001b[49m\u001b[43mtransform\u001b[49m\u001b[43m(\u001b[49m\u001b[43mimg\u001b[49m\u001b[43m)\u001b[49m\u001b[43m,\u001b[49m\u001b[43m \u001b[49m\u001b[43mclass_index\u001b[49m\u001b[38;5;241;43m=\u001b[39;49m\u001b[38;5;241;43m1\u001b[39;49m\u001b[43m)\u001b[49m\n\u001b[0;32m    228\u001b[0m fig, axs \u001b[38;5;241m=\u001b[39m plt\u001b[38;5;241m.\u001b[39msubplots(\u001b[38;5;241m1\u001b[39m, \u001b[38;5;241m2\u001b[39m, figsize\u001b[38;5;241m=\u001b[39m(\u001b[38;5;241m10\u001b[39m, \u001b[38;5;241m5\u001b[39m)) \u001b[38;5;66;03m# 4 subplots: original + 3 maps\u001b[39;00m\n\u001b[0;32m    229\u001b[0m axs[\u001b[38;5;241m0\u001b[39m]\u001b[38;5;241m.\u001b[39mimshow(img)\n",
      "Cell \u001b[1;32mIn[1], line 112\u001b[0m, in \u001b[0;36mgenerate_visualization\u001b[1;34m(original_image, class_index)\u001b[0m\n\u001b[0;32m    110\u001b[0m \u001b[38;5;28;01mdef\u001b[39;00m \u001b[38;5;21mgenerate_visualization\u001b[39m(original_image, class_index\u001b[38;5;241m=\u001b[39m\u001b[38;5;28;01mNone\u001b[39;00m):\n\u001b[0;32m    111\u001b[0m     \u001b[38;5;66;03m# Get relevance maps for each attention type\u001b[39;00m\n\u001b[1;32m--> 112\u001b[0m     R_vertical, R_horizontal, R_global \u001b[38;5;241m=\u001b[39m \u001b[43mgenerate_relevance\u001b[49m\u001b[43m(\u001b[49m\u001b[43mmodel\u001b[49m\u001b[43m,\u001b[49m\u001b[43m \u001b[49m\u001b[43moriginal_image\u001b[49m\u001b[38;5;241;43m.\u001b[39;49m\u001b[43munsqueeze\u001b[49m\u001b[43m(\u001b[49m\u001b[38;5;241;43m0\u001b[39;49m\u001b[43m)\u001b[49m\u001b[43m,\u001b[49m\u001b[43m \u001b[49m\u001b[43mindex\u001b[49m\u001b[38;5;241;43m=\u001b[39;49m\u001b[43mclass_index\u001b[49m\u001b[43m)\u001b[49m\n\u001b[0;32m    113\u001b[0m     grid_h, grid_w \u001b[38;5;241m=\u001b[39m get_patch_grid_size(model, img_size\u001b[38;5;241m=\u001b[39m\u001b[38;5;241m224\u001b[39m)\n\u001b[0;32m    114\u001b[0m     \u001b[38;5;66;03m# Reshape and upsample for visualization\u001b[39;00m\n",
      "Cell \u001b[1;32mIn[1], line 32\u001b[0m, in \u001b[0;36mgenerate_relevance\u001b[1;34m(model, input, index)\u001b[0m\n\u001b[0;32m     31\u001b[0m \u001b[38;5;28;01mdef\u001b[39;00m \u001b[38;5;21mgenerate_relevance\u001b[39m(model,\u001b[38;5;28minput\u001b[39m,index\u001b[38;5;241m=\u001b[39m\u001b[38;5;28;01mNone\u001b[39;00m):\n\u001b[1;32m---> 32\u001b[0m     result \u001b[38;5;241m=\u001b[39m \u001b[43mmodel\u001b[49m\u001b[43m(\u001b[49m\u001b[38;5;28;43minput\u001b[39;49m\u001b[43m,\u001b[49m\u001b[43m \u001b[49m\u001b[43mregister_hook\u001b[49m\u001b[38;5;241;43m=\u001b[39;49m\u001b[38;5;28;43;01mTrue\u001b[39;49;00m\u001b[43m,\u001b[49m\u001b[43m \u001b[49m\u001b[43mreturn_attentions\u001b[49m\u001b[38;5;241;43m=\u001b[39;49m\u001b[38;5;28;43;01mTrue\u001b[39;49;00m\u001b[43m)\u001b[49m\n\u001b[0;32m     33\u001b[0m     \u001b[38;5;28;01mif\u001b[39;00m \u001b[38;5;28mlen\u001b[39m(result) \u001b[38;5;241m==\u001b[39m \u001b[38;5;241m5\u001b[39m:\n\u001b[0;32m     34\u001b[0m         output, global_attention, vertical_attention, horizontal_attention,overall_attention \u001b[38;5;241m=\u001b[39m result\n",
      "File \u001b[1;32md:\\Thesis\\.venv\\lib\\site-packages\\torch\\nn\\modules\\module.py:1511\u001b[0m, in \u001b[0;36mModule._wrapped_call_impl\u001b[1;34m(self, *args, **kwargs)\u001b[0m\n\u001b[0;32m   1509\u001b[0m     \u001b[38;5;28;01mreturn\u001b[39;00m \u001b[38;5;28mself\u001b[39m\u001b[38;5;241m.\u001b[39m_compiled_call_impl(\u001b[38;5;241m*\u001b[39margs, \u001b[38;5;241m*\u001b[39m\u001b[38;5;241m*\u001b[39mkwargs)  \u001b[38;5;66;03m# type: ignore[misc]\u001b[39;00m\n\u001b[0;32m   1510\u001b[0m \u001b[38;5;28;01melse\u001b[39;00m:\n\u001b[1;32m-> 1511\u001b[0m     \u001b[38;5;28;01mreturn\u001b[39;00m \u001b[38;5;28mself\u001b[39m\u001b[38;5;241m.\u001b[39m_call_impl(\u001b[38;5;241m*\u001b[39margs, \u001b[38;5;241m*\u001b[39m\u001b[38;5;241m*\u001b[39mkwargs)\n",
      "File \u001b[1;32md:\\Thesis\\.venv\\lib\\site-packages\\torch\\nn\\modules\\module.py:1520\u001b[0m, in \u001b[0;36mModule._call_impl\u001b[1;34m(self, *args, **kwargs)\u001b[0m\n\u001b[0;32m   1515\u001b[0m \u001b[38;5;66;03m# If we don't have any hooks, we want to skip the rest of the logic in\u001b[39;00m\n\u001b[0;32m   1516\u001b[0m \u001b[38;5;66;03m# this function, and just call forward.\u001b[39;00m\n\u001b[0;32m   1517\u001b[0m \u001b[38;5;28;01mif\u001b[39;00m \u001b[38;5;129;01mnot\u001b[39;00m (\u001b[38;5;28mself\u001b[39m\u001b[38;5;241m.\u001b[39m_backward_hooks \u001b[38;5;129;01mor\u001b[39;00m \u001b[38;5;28mself\u001b[39m\u001b[38;5;241m.\u001b[39m_backward_pre_hooks \u001b[38;5;129;01mor\u001b[39;00m \u001b[38;5;28mself\u001b[39m\u001b[38;5;241m.\u001b[39m_forward_hooks \u001b[38;5;129;01mor\u001b[39;00m \u001b[38;5;28mself\u001b[39m\u001b[38;5;241m.\u001b[39m_forward_pre_hooks\n\u001b[0;32m   1518\u001b[0m         \u001b[38;5;129;01mor\u001b[39;00m _global_backward_pre_hooks \u001b[38;5;129;01mor\u001b[39;00m _global_backward_hooks\n\u001b[0;32m   1519\u001b[0m         \u001b[38;5;129;01mor\u001b[39;00m _global_forward_hooks \u001b[38;5;129;01mor\u001b[39;00m _global_forward_pre_hooks):\n\u001b[1;32m-> 1520\u001b[0m     \u001b[38;5;28;01mreturn\u001b[39;00m forward_call(\u001b[38;5;241m*\u001b[39margs, \u001b[38;5;241m*\u001b[39m\u001b[38;5;241m*\u001b[39mkwargs)\n\u001b[0;32m   1522\u001b[0m \u001b[38;5;28;01mtry\u001b[39;00m:\n\u001b[0;32m   1523\u001b[0m     result \u001b[38;5;241m=\u001b[39m \u001b[38;5;28;01mNone\u001b[39;00m\n",
      "File \u001b[1;32md:\\Thesis\\CSWin_Transformer_main\\models\\cswinmodified.py:390\u001b[0m, in \u001b[0;36mCSWinTransformer.forward\u001b[1;34m(self, x, register_hook, return_attentions)\u001b[0m\n\u001b[0;32m    388\u001b[0m                     x \u001b[38;5;241m=\u001b[39m blk(x)\n\u001b[0;32m    389\u001b[0m             \u001b[38;5;28;01melse\u001b[39;00m:\n\u001b[1;32m--> 390\u001b[0m                 x \u001b[38;5;241m=\u001b[39m \u001b[43mblk\u001b[49m\u001b[43m(\u001b[49m\u001b[43mx\u001b[49m\u001b[43m,\u001b[49m\u001b[43m \u001b[49m\u001b[43mregister_hook\u001b[49m\u001b[38;5;241;43m=\u001b[39;49m\u001b[43mregister_hook\u001b[49m\u001b[43m,\u001b[49m\u001b[43m \u001b[49m\u001b[43mreturn_attentions\u001b[49m\u001b[38;5;241;43m=\u001b[39;49m\u001b[38;5;28;43;01mTrue\u001b[39;49;00m\u001b[43m)\u001b[49m\n\u001b[0;32m    392\u001b[0m \u001b[38;5;66;03m#Global For Stage 4                    x, attn_global = blk(x, register_hook=register_hook, return_attentions=True)\u001b[39;00m\n\u001b[0;32m    393\u001b[0m \u001b[38;5;66;03m#Global For Stage 4                    attn_global_list.append(attn_global)\u001b[39;00m\n\u001b[0;32m    395\u001b[0m         \u001b[38;5;28;01mfor\u001b[39;00m pre, blocks \u001b[38;5;129;01min\u001b[39;00m \u001b[38;5;28mzip\u001b[39m([\u001b[38;5;28mself\u001b[39m\u001b[38;5;241m.\u001b[39mmerge1, \u001b[38;5;28mself\u001b[39m\u001b[38;5;241m.\u001b[39mmerge2, \u001b[38;5;28mself\u001b[39m\u001b[38;5;241m.\u001b[39mmerge3], \n\u001b[0;32m    396\u001b[0m                                [\u001b[38;5;28mself\u001b[39m\u001b[38;5;241m.\u001b[39mstage2, \u001b[38;5;28mself\u001b[39m\u001b[38;5;241m.\u001b[39mstage3, \u001b[38;5;28mself\u001b[39m\u001b[38;5;241m.\u001b[39mstage4]):\n",
      "File \u001b[1;32md:\\Thesis\\.venv\\lib\\site-packages\\torch\\nn\\modules\\module.py:1511\u001b[0m, in \u001b[0;36mModule._wrapped_call_impl\u001b[1;34m(self, *args, **kwargs)\u001b[0m\n\u001b[0;32m   1509\u001b[0m     \u001b[38;5;28;01mreturn\u001b[39;00m \u001b[38;5;28mself\u001b[39m\u001b[38;5;241m.\u001b[39m_compiled_call_impl(\u001b[38;5;241m*\u001b[39margs, \u001b[38;5;241m*\u001b[39m\u001b[38;5;241m*\u001b[39mkwargs)  \u001b[38;5;66;03m# type: ignore[misc]\u001b[39;00m\n\u001b[0;32m   1510\u001b[0m \u001b[38;5;28;01melse\u001b[39;00m:\n\u001b[1;32m-> 1511\u001b[0m     \u001b[38;5;28;01mreturn\u001b[39;00m \u001b[38;5;28mself\u001b[39m\u001b[38;5;241m.\u001b[39m_call_impl(\u001b[38;5;241m*\u001b[39margs, \u001b[38;5;241m*\u001b[39m\u001b[38;5;241m*\u001b[39mkwargs)\n",
      "File \u001b[1;32md:\\Thesis\\.venv\\lib\\site-packages\\torch\\nn\\modules\\module.py:1520\u001b[0m, in \u001b[0;36mModule._call_impl\u001b[1;34m(self, *args, **kwargs)\u001b[0m\n\u001b[0;32m   1515\u001b[0m \u001b[38;5;66;03m# If we don't have any hooks, we want to skip the rest of the logic in\u001b[39;00m\n\u001b[0;32m   1516\u001b[0m \u001b[38;5;66;03m# this function, and just call forward.\u001b[39;00m\n\u001b[0;32m   1517\u001b[0m \u001b[38;5;28;01mif\u001b[39;00m \u001b[38;5;129;01mnot\u001b[39;00m (\u001b[38;5;28mself\u001b[39m\u001b[38;5;241m.\u001b[39m_backward_hooks \u001b[38;5;129;01mor\u001b[39;00m \u001b[38;5;28mself\u001b[39m\u001b[38;5;241m.\u001b[39m_backward_pre_hooks \u001b[38;5;129;01mor\u001b[39;00m \u001b[38;5;28mself\u001b[39m\u001b[38;5;241m.\u001b[39m_forward_hooks \u001b[38;5;129;01mor\u001b[39;00m \u001b[38;5;28mself\u001b[39m\u001b[38;5;241m.\u001b[39m_forward_pre_hooks\n\u001b[0;32m   1518\u001b[0m         \u001b[38;5;129;01mor\u001b[39;00m _global_backward_pre_hooks \u001b[38;5;129;01mor\u001b[39;00m _global_backward_hooks\n\u001b[0;32m   1519\u001b[0m         \u001b[38;5;129;01mor\u001b[39;00m _global_forward_hooks \u001b[38;5;129;01mor\u001b[39;00m _global_forward_pre_hooks):\n\u001b[1;32m-> 1520\u001b[0m     \u001b[38;5;28;01mreturn\u001b[39;00m forward_call(\u001b[38;5;241m*\u001b[39margs, \u001b[38;5;241m*\u001b[39m\u001b[38;5;241m*\u001b[39mkwargs)\n\u001b[0;32m   1522\u001b[0m \u001b[38;5;28;01mtry\u001b[39;00m:\n\u001b[0;32m   1523\u001b[0m     result \u001b[38;5;241m=\u001b[39m \u001b[38;5;28;01mNone\u001b[39;00m\n",
      "File \u001b[1;32md:\\Thesis\\CSWin_Transformer_main\\models\\cswinmodified.py:228\u001b[0m, in \u001b[0;36mCSWinBlock.forward\u001b[1;34m(self, x, register_hook, return_attentions)\u001b[0m\n\u001b[0;32m    226\u001b[0m     x1 \u001b[38;5;241m=\u001b[39m \u001b[38;5;28mself\u001b[39m\u001b[38;5;241m.\u001b[39mattns[\u001b[38;5;241m0\u001b[39m](qkv[:,:,:,:C\u001b[38;5;241m/\u001b[39m\u001b[38;5;241m/\u001b[39m\u001b[38;5;241m2\u001b[39m], register_hook\u001b[38;5;241m=\u001b[39mregister_hook, return_attentions\u001b[38;5;241m=\u001b[39m\u001b[38;5;28;01mTrue\u001b[39;00m)\n\u001b[0;32m    227\u001b[0m     x2 \u001b[38;5;241m=\u001b[39m \u001b[38;5;28mself\u001b[39m\u001b[38;5;241m.\u001b[39mattns[\u001b[38;5;241m1\u001b[39m](qkv[:,:,:,C\u001b[38;5;241m/\u001b[39m\u001b[38;5;241m/\u001b[39m\u001b[38;5;241m2\u001b[39m:], register_hook\u001b[38;5;241m=\u001b[39mregister_hook, return_attentions\u001b[38;5;241m=\u001b[39m\u001b[38;5;28;01mTrue\u001b[39;00m)            \n\u001b[1;32m--> 228\u001b[0m     attened_x \u001b[38;5;241m=\u001b[39m \u001b[43mtorch\u001b[49m\u001b[38;5;241;43m.\u001b[39;49m\u001b[43mcat\u001b[49m\u001b[43m(\u001b[49m\u001b[43m[\u001b[49m\u001b[43mx1\u001b[49m\u001b[43m,\u001b[49m\u001b[43mx2\u001b[49m\u001b[43m]\u001b[49m\u001b[43m,\u001b[49m\u001b[43m \u001b[49m\u001b[43mdim\u001b[49m\u001b[38;5;241;43m=\u001b[39;49m\u001b[38;5;241;43m2\u001b[39;49m\u001b[43m)\u001b[49m\n\u001b[0;32m    231\u001b[0m \u001b[38;5;28;01melif\u001b[39;00m \u001b[38;5;28mself\u001b[39m\u001b[38;5;241m.\u001b[39mbranch_num \u001b[38;5;241m==\u001b[39m \u001b[38;5;241m1\u001b[39m \u001b[38;5;129;01mand\u001b[39;00m \u001b[38;5;129;01mnot\u001b[39;00m return_attentions:\n\u001b[0;32m    232\u001b[0m     attened_x \u001b[38;5;241m=\u001b[39m \u001b[38;5;28mself\u001b[39m\u001b[38;5;241m.\u001b[39mattns[\u001b[38;5;241m0\u001b[39m](qkv)\n",
      "\u001b[1;31mTypeError\u001b[0m: expected Tensor as element 0 in argument 0, but got tuple"
     ]
    },
    {
     "data": {
      "image/png": "[encoded data removed]",
      "text/plain": [
       "<Figure size 640x480 with 4 Axes>"
      ]
     },
     "metadata": {},
     "output_type": "display_data"
    }
   ],
   "source": [
    "import torch\n",
    "from timm.models import create_model\n",
    "from models.cswinmodified import CSWin_64_12211_tiny_224  # Use the modified model\n",
    "import torchvision.transforms as T\n",
    "import json\n",
    "import urllib.request\n",
    "import numpy as np\n",
    "import cv2\n",
    "import matplotlib.pyplot as plt\n",
    "from PIL import Image\n",
    "\n",
    "def avg_heads(cam,grad):\n",
    "    # cam is the attention \n",
    "    # grad is the gradient of the said attention.\n",
    "    cam = cam.reshape(-1, cam.shape[-2], cam.shape[-1])\n",
    "    grad = grad.reshape(-1, grad.shape[-2], grad.shape[-1])\n",
    "    cam = grad * cam\n",
    "    cam = cam.clamp(min=0).mean(dim=0)\n",
    "    return cam\n",
    "\n",
    "def apply_self_attention_rules(R_ss,cam_ss):\n",
    "    R_ss_addition = torch.matmul(cam_ss,R_ss)\n",
    "    return R_ss_addition\n",
    "\n",
    "def upsample_relevance_nearest(R,old_tokens, new_tokens):\n",
    "    R = R.reshape(1,1,old_tokens,old_tokens)\n",
    "    R = torch.nn.functional.interpolate(R, size=(new_tokens, new_tokens), mode='bilinear')\n",
    "    R = R.reshape(new_tokens, new_tokens)\n",
    "    return R\n",
    "\n",
    "def generate_relevance(model,input,index=None):\n",
    "    result = model(input, register_hook=True, return_attentions=True)\n",
    "    if len(result) == 5:\n",
    "        output, global_attention, vertical_attention, horizontal_attention,overall_attention = result\n",
    "        # Use all four\n",
    "    else:\n",
    "        output, global_attention = result\n",
    "        # Use only two\n",
    "    if index == None:\n",
    "        index=np.argmax(output.cpu().data.numpy(),axis=-1)\n",
    "    \n",
    "    one_hot = np.zeros((1,output.size()[-1]),dtype=np.float32)\n",
    "    one_hot[0, index] = 1\n",
    "    one_hot_vector = one_hot\n",
    "    one_hot = torch.from_numpy(one_hot).requires_grad_(True)\n",
    "    one_hot = torch.sum(one_hot * output)\n",
    "    model.zero_grad()\n",
    "    one_hot.backward(retain_graph=True)\n",
    " \n",
    "    #num_tokens = vertical_attention[-1].shape[-1]\n",
    "#    else:\n",
    "    num_tokens = model.stage4[0].attns[0].get_attention_map().shape[-1]\n",
    "\n",
    "    # Initialize relevance matrices\n",
    "    \n",
    "    # Loop through all vertical/horizontal blocks (all but last stage)\n",
    "    # You may need to adjust this if your model has a different number of blocks per stage\n",
    "\n",
    "    # For the last stage (global attention)\n",
    "    blk = model.stage4[-1]\n",
    "    grad_g = blk.attns[0].get_attn_gradients()\n",
    "    cam_g = blk.attns[0].get_attention_map()\n",
    "    cam_g = avg_heads(cam_g, grad_g)\n",
    "    R_global = torch.eye(num_tokens, num_tokens)\n",
    "    R_global += apply_self_attention_rules(R_global, cam_g)\n",
    "\n",
    "    # Return relevance maps for each type\n",
    "    # Correct order: vertical, horizontal, global\n",
    "    return R_global.sum(dim=0) \n",
    "\n",
    "    # create heatmap from mask on image\n",
    "def show_cam_on_image(img, mask):\n",
    "    heatmap = cv2.applyColorMap(np.uint8(255 * mask), cv2.COLORMAP_JET)\n",
    "    heatmap = np.float32(heatmap) / 255\n",
    "    cam = heatmap + np.float32(img)\n",
    "    cam = cam / np.max(cam)\n",
    "    return cam\n",
    "\n",
    "def get_patch_grid_size(model, img_size=224):\n",
    "    # Try to get patch size from model, fallback to 4 if not present\n",
    "    patch_size = getattr(model, 'patch_size', 4)\n",
    "    if isinstance(patch_size, tuple):\n",
    "        patch_h, patch_w = patch_size\n",
    "    else:\n",
    "        patch_h = patch_w = patch_size\n",
    "    grid_h = img_size // patch_h\n",
    "    grid_w = img_size // patch_w\n",
    "    return grid_h, grid_w\n",
    "\n",
    "def generate_visualization(original_image, class_index=None):\n",
    "    # Get relevance maps for each attention type\n",
    "    R_global = generate_relevance(model, original_image.unsqueeze(0), index=class_index)\n",
    "    grid_h, grid_w = get_patch_grid_size(model, img_size=224)\n",
    "    # Reshape and upsample for visualization\n",
    "    def process_relevance(R):\n",
    "        R = R.detach()\n",
    "        numel = R.numel()\n",
    "        # Try to find two factors (h, w) such that h * w == numel and h <= w\n",
    "        best_h, best_w = 1, numel\n",
    "        min_diff = numel\n",
    "        for h in range(1, int(np.sqrt(numel)) + 1):\n",
    "            if numel % h == 0:\n",
    "                w = numel // h\n",
    "                if abs(w - h) < min_diff:\n",
    "                    best_h, best_w = h, w\n",
    "                    min_diff = abs(w - h)\n",
    "        # If not a perfect rectangle, pad to next (h, w)\n",
    "        if best_h * best_w != numel:\n",
    "            next_square = int(np.ceil(np.sqrt(numel))) ** 2\n",
    "            pad_len = next_square - numel\n",
    "            R = torch.nn.functional.pad(R, (0, pad_len))\n",
    "            best_h = best_w = int(np.sqrt(next_square))\n",
    "        R = R.reshape(1, 1, best_h, best_w)\n",
    "        R = torch.nn.functional.interpolate(R, size=(224, 224), mode='bilinear')\n",
    "        R = R.reshape(224, 224).data.cpu().numpy()\n",
    "        R = (R - R.min()) / (R.max() - R.min())\n",
    "        print(R)\n",
    "        return R\n",
    "\n",
    "    global_map = process_relevance(R_global)\n",
    "\n",
    "    image_np = original_image.permute(1, 2, 0).data.cpu().numpy()\n",
    "    image_np = (image_np - image_np.min()) / (image_np.max() - image_np.min())\n",
    "\n",
    "    mask_resized = cv2.resize(global_map, (img.width, img.height))\n",
    "    vis_global = show_cam_on_image(np.array(img)/255.0, mask_resized)\n",
    "    #vis_global = show_cam_on_image(image_np, global_map)\n",
    "\n",
    "    vis_global = np.uint8(255 * vis_global)\n",
    "\n",
    "    vis_global = cv2.cvtColor(np.array(vis_global), cv2.COLOR_RGB2BGR)\n",
    "\n",
    "    # Return in the correct order for plotting: global, vertical, horizontal\n",
    "    return vis_global\n",
    "\n",
    "def print_top_classes(predictions, **kwargs):\n",
    "    # Print Top-5 predictions\n",
    "    prob = torch.softmax(predictions, dim=1)\n",
    "    class_indices = predictions.data.topk(5, dim=1)[1][0].tolist()\n",
    "    max_str_len = 0\n",
    "    class_names = []\n",
    "    for cls_idx in class_indices:\n",
    "        class_names.append(CLS2IDX[cls_idx])\n",
    "        if len(CLS2IDX[cls_idx]) > max_str_len:\n",
    "            max_str_len = len(CLS2IDX[cls_idx])\n",
    "\n",
    "# 1. Create the model instance (do not use pretrained=True unless you want to load default weights)\n",
    "model = CSWin_64_12211_tiny_224(pretrained=False)\n",
    "\n",
    "# 2. Load the checkpoint\n",
    "checkpoint = torch.load('cswin_tiny_224.pth', map_location='cpu')\n",
    "\n",
    "# 3. Extract the state_dict (handles both plain and wrapped checkpoints)\n",
    "if 'state_dict_ema' in checkpoint:\n",
    "    state_dict = checkpoint['state_dict_ema']\n",
    "elif 'state_dict' in checkpoint:\n",
    "    state_dict = checkpoint['state_dict']\n",
    "else:\n",
    "    state_dict = checkpoint\n",
    "\n",
    "# 4. Remove 'module.' prefix if present (for DataParallel checkpoints)\n",
    "new_state_dict = {}\n",
    "for k, v in state_dict.items():\n",
    "    new_key = k.replace('module.', '') if k.startswith('module.') else k\n",
    "    new_state_dict[new_key] = v\n",
    "\n",
    "# 5. Load weights into the model\n",
    "model.load_state_dict(new_state_dict, strict=False)  # strict=False ignores non-matching keys\n",
    "\n",
    "print(list(state_dict.keys())[:20])  # Print first 20 keys\n",
    "# 6. Set model to evaluation mode\n",
    "model.eval()\n",
    "\n",
    "# 5. (Optional) Move to GPU if available\n",
    "device = torch.device('cuda' if torch.cuda.is_available() else 'cpu')\n",
    "model = model.to(device)\n",
    "\n",
    "# Load and preprocess your image\n",
    "img = Image.open('D:/Thesis/airplane.jpg').convert('RGB')\n",
    "transform = T.Compose([\n",
    "    T.Resize((224, 224)),\n",
    "    #T.CenterCrop(224),\n",
    "    T.ToTensor(),\n",
    "    T.Normalize(mean=[0.485, 0.456, 0.406], std=[0.229, 0.224, 0.225]),\n",
    "])\n",
    "\n",
    "input_tensor = transform(img).unsqueeze(0)  # Add batch dimension\n",
    "input_tensor = input_tensor.to(device)\n",
    "\n",
    "fig, axs = plt.subplots(1, 4)\n",
    "axs[0].imshow(img)\n",
    "axs[0].axis('off')\n",
    "\n",
    "with torch.no_grad():\n",
    "    output = model(input_tensor)\n",
    "    pred = output.argmax(dim=1)\n",
    "    print('Predicted class:', pred.item())\n",
    "\n",
    "vis_global = generate_visualization(transform(img), class_index=1)\n",
    "\n",
    "fig, axs = plt.subplots(1, 2, figsize=(10, 5)) # 4 subplots: original + 3 maps\n",
    "axs[0].imshow(img)\n",
    "axs[0].axis('off')\n",
    "axs[0].set_title('Original')\n",
    "\n",
    "axs[1].imshow(vis_global)\n",
    "axs[1].axis('off')\n",
    "axs[1].set_title('Global')\n",
    "\n",
    "\n",
    "# Download ImageNet class index mapping if you don't have it\n",
    "url = \"https://raw.githubusercontent.com/pytorch/hub/master/imagenet_classes.txt\"\n",
    "filename = \"imagenet_classes.txt\"\n",
    "urllib.request.urlretrieve(url, filename)\n",
    "\n",
    "# Read the class names\n",
    "with open(filename, \"r\") as f:\n",
    "    classes = [line.strip() for line in f.readlines()]\n",
    "\n",
    "print(\"Predicted class name:\", classes[pred.item()])"
   ]
  }
 ],
 "metadata": {
  "kernelspec": {
   "display_name": ".venv",
   "language": "python",
   "name": "python3"
  },
  "language_info": {
   "codemirror_mode": {
    "name": "ipython",
    "version": 3
   },
   "file_extension": ".py",
   "mimetype": "text/x-python",
   "name": "python",
   "nbconvert_exporter": "python",
   "pygments_lexer": "ipython3",
   "version": "3.10.0"
  }
 },
 "nbformat": 4,
 "nbformat_minor": 5
}
